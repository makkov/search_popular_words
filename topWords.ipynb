{
 "cells": [
  {
   "cell_type": "markdown",
   "metadata": {},
   "source": [
    "Реализуем несколько функций для выполнения задания"
   ]
  },
  {
   "cell_type": "markdown",
   "metadata": {},
   "source": [
    "Функция принимает на вход текст и возращает список, в котором есть только слова в нижнем регистре без символов"
   ]
  },
  {
   "cell_type": "code",
   "execution_count": 1,
   "metadata": {
    "collapsed": true
   },
   "outputs": [],
   "source": [
    "# -*- coding: utf-8 -*-\n",
    "\n",
    "def get_words(nameFile):\n",
    "    with open(nameFile) as file:\n",
    "        text = file.read() \n",
    "    text = text.replace(\"\\n\", \" \")\n",
    "    text = text.replace(\",\", \"\").replace(\".\", \"\").replace(\"?\", \"\").replace(\"!\", \"\").replace(\"—\", \"\")\n",
    "    text = text.lower()\n",
    "    words = text.split()\n",
    "    return words"
   ]
  },
  {
   "cell_type": "markdown",
   "metadata": {},
   "source": [
    "Функция принимает на вход список и возращает список слов длиной больше lenWord"
   ]
  },
  {
   "cell_type": "code",
   "execution_count": 2,
   "metadata": {
    "collapsed": true
   },
   "outputs": [],
   "source": [
    "def get_selected_words(nameFile, lenWord):\n",
    "    listWords = []\n",
    "    for i in get_words(nameFile):\n",
    "        if len(i) > lenWord:\n",
    "            listWords.append(i)\n",
    "    return listWords"
   ]
  },
  {
   "cell_type": "markdown",
   "metadata": {},
   "source": [
    "Функция принимает список и возращает мешок слов (каждому слову поставлен в соответвтвие номер)"
   ]
  },
  {
   "cell_type": "code",
   "execution_count": 3,
   "metadata": {
    "collapsed": true
   },
   "outputs": [],
   "source": [
    "def create_bagWords(listWords):\n",
    "    bagWords = set()\n",
    "    for i in range(len(listWords)):\n",
    "        bagWords.add(listWords[i])\n",
    "    keys = [i for i in range(len(bagWords))]\n",
    "    bagWords = dict(zip(bagWords, keys))\n",
    "    return bagWords"
   ]
  },
  {
   "cell_type": "markdown",
   "metadata": {},
   "source": [
    "Функция принмает на вход список слов и мешок слов. Возращает вектор вхождений (объект - слово, значение - количество вхождения этого слова в текст)"
   ]
  },
  {
   "cell_type": "code",
   "execution_count": 4,
   "metadata": {
    "collapsed": true
   },
   "outputs": [],
   "source": [
    "import numpy as np\n",
    "\n",
    "def create_vector_count(listWords, bagWords):\n",
    "    vector = np.zeros(len(bagWords))\n",
    "    for i in range(len(bagWords.keys())):\n",
    "        for j in range(len(listWords)):\n",
    "            if bagWords.keys()[i] == listWords[j]:\n",
    "                vector[i] += 1\n",
    "    return vector"
   ]
  },
  {
   "cell_type": "markdown",
   "metadata": {},
   "source": [
    "Функция принимает на вход вектор вхождения и мешок слов. Возращает список списков популярных слов в порядке убывания (topList) (если есть слова с одинаковой частотой вхождения, выводятся все значения)"
   ]
  },
  {
   "cell_type": "code",
   "execution_count": 5,
   "metadata": {},
   "outputs": [],
   "source": [
    "def get_top_words(vector, bagWords):\n",
    "    maxNumber = int(max(vector))\n",
    "    topList = []\n",
    "    for i in reversed(range(1, maxNumber + 1)):\n",
    "        iterList = []\n",
    "        for j in range(len(vector)):\n",
    "            if vector[j] == i:\n",
    "                iterList.append(bagWords.keys()[j])\n",
    "        if len(iterList) != 0:\n",
    "            topList.append(iterList)\n",
    "    return topList"
   ]
  },
  {
   "cell_type": "markdown",
   "metadata": {},
   "source": [
    "Функция показа топа. На вход принимает topList и размер топ листа (numDisplayed). Выводит искомый топ популярных слов"
   ]
  },
  {
   "cell_type": "code",
   "execution_count": 6,
   "metadata": {},
   "outputs": [],
   "source": [
    "def show_top_words(topList, numDisplayed):\n",
    "    for i in range(numDisplayed):\n",
    "        print('№ ' + str(i + 1) + '| word/words: ' + str(', '.join(topList[i])))"
   ]
  },
  {
   "cell_type": "markdown",
   "metadata": {},
   "source": [
    "Применим прогграмму к Декларации независимости США"
   ]
  },
  {
   "cell_type": "code",
   "execution_count": 7,
   "metadata": {
    "collapsed": true
   },
   "outputs": [],
   "source": [
    "words = get_selected_words('declaration of independence.txt', 7)\n",
    "bagWords = create_bagWords(words)\n",
    "vector = create_vector_count(words, bagWords)\n",
    "topList = get_top_words(vector, bagWords)"
   ]
  },
  {
   "cell_type": "markdown",
   "metadata": {},
   "source": [
    "Посмотрим топ-3 популярных слов"
   ]
  },
  {
   "cell_type": "code",
   "execution_count": 8,
   "metadata": {},
   "outputs": [
    {
     "name": "stdout",
     "output_type": "stream",
     "text": [
      "№ 1| word/words: government\n",
      "№ 2| word/words: declaration, independent\n",
      "№ 3| word/words: benjamin, abolishing, usurpations, themselves, legislature, repeated, absolute\n"
     ]
    }
   ],
   "source": [
    "show_top_words(topList, 3)"
   ]
  },
  {
   "cell_type": "code",
   "execution_count": null,
   "metadata": {
    "collapsed": true
   },
   "outputs": [],
   "source": []
  }
 ],
 "metadata": {
  "kernelspec": {
   "display_name": "Python 2",
   "language": "python",
   "name": "python2"
  },
  "language_info": {
   "codemirror_mode": {
    "name": "ipython",
    "version": 2
   },
   "file_extension": ".py",
   "mimetype": "text/x-python",
   "name": "python",
   "nbconvert_exporter": "python",
   "pygments_lexer": "ipython2",
   "version": "2.7.13"
  }
 },
 "nbformat": 4,
 "nbformat_minor": 2
}
